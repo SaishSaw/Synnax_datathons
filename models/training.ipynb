{
 "cells": [
  {
   "cell_type": "markdown",
   "metadata": {},
   "source": [
    "# Aim\n",
    "* Identifying the target and features.\n",
    "* Feature selection for each target\n",
    "* Developing models for future predictions\n",
    "* Creating additional features if necessary\n",
    "* Model testing\n"
   ]
  },
  {
   "cell_type": "code",
   "execution_count": 1,
   "metadata": {},
   "outputs": [],
   "source": [
    "import pandas as pd\n",
    "import numpy as np\n",
    "import seaborn as sb\n",
    "import matplotlib.pyplot as plt "
   ]
  },
  {
   "cell_type": "code",
   "execution_count": 2,
   "metadata": {},
   "outputs": [
    {
     "data": {
      "text/html": [
       "<div>\n",
       "<style scoped>\n",
       "    .dataframe tbody tr th:only-of-type {\n",
       "        vertical-align: middle;\n",
       "    }\n",
       "\n",
       "    .dataframe tbody tr th {\n",
       "        vertical-align: top;\n",
       "    }\n",
       "\n",
       "    .dataframe thead th {\n",
       "        text-align: right;\n",
       "    }\n",
       "</style>\n",
       "<table border=\"1\" class=\"dataframe\">\n",
       "  <thead>\n",
       "    <tr style=\"text-align: right;\">\n",
       "      <th></th>\n",
       "      <th>companyId</th>\n",
       "      <th>metadata_0</th>\n",
       "      <th>industry</th>\n",
       "      <th>sector</th>\n",
       "      <th>metadata_1</th>\n",
       "      <th>metadata_2</th>\n",
       "      <th>metadata_3</th>\n",
       "      <th>metadata_4</th>\n",
       "      <th>lastUpdatedAnnumEndDate</th>\n",
       "      <th>lastUpdatedQuarterEndDate</th>\n",
       "      <th>...</th>\n",
       "      <th>Y_0_feature_22</th>\n",
       "      <th>Y_0_feature_69</th>\n",
       "      <th>Y_0_feature_108</th>\n",
       "      <th>Y_0_feature_123</th>\n",
       "      <th>Y_0_feature_80</th>\n",
       "      <th>Y_0_feature_13</th>\n",
       "      <th>Y_0_feature_20</th>\n",
       "      <th>Y_0_feature_35</th>\n",
       "      <th>Y_0_feature_45</th>\n",
       "      <th>Y_0_feature_16</th>\n",
       "    </tr>\n",
       "  </thead>\n",
       "  <tbody>\n",
       "    <tr>\n",
       "      <th>0</th>\n",
       "      <td>company_18887</td>\n",
       "      <td>US</td>\n",
       "      <td>Asset Management</td>\n",
       "      <td>Financial Services</td>\n",
       "      <td>0.003054</td>\n",
       "      <td>0.490076</td>\n",
       "      <td>0.003586</td>\n",
       "      <td>0.000486</td>\n",
       "      <td>2023-12-31</td>\n",
       "      <td>2024-03-31</td>\n",
       "      <td>...</td>\n",
       "      <td>8.458420e-09</td>\n",
       "      <td>0.001202</td>\n",
       "      <td>2.487104e-04</td>\n",
       "      <td>0.000063</td>\n",
       "      <td>0.000065</td>\n",
       "      <td>0.999062</td>\n",
       "      <td>0.000010</td>\n",
       "      <td>0.001340</td>\n",
       "      <td>0.000270</td>\n",
       "      <td>0.015111</td>\n",
       "    </tr>\n",
       "    <tr>\n",
       "      <th>1</th>\n",
       "      <td>company_14024</td>\n",
       "      <td>CA</td>\n",
       "      <td>Furnishings, Fixtures &amp; Appliances</td>\n",
       "      <td>Consumer Cyclical</td>\n",
       "      <td>NaN</td>\n",
       "      <td>0.489839</td>\n",
       "      <td>0.000016</td>\n",
       "      <td>0.000048</td>\n",
       "      <td>2023-12-31</td>\n",
       "      <td>2024-03-31</td>\n",
       "      <td>...</td>\n",
       "      <td>6.552366e-06</td>\n",
       "      <td>0.001189</td>\n",
       "      <td>5.385571e-05</td>\n",
       "      <td>0.000132</td>\n",
       "      <td>0.000206</td>\n",
       "      <td>0.998454</td>\n",
       "      <td>0.000284</td>\n",
       "      <td>0.001227</td>\n",
       "      <td>0.000258</td>\n",
       "      <td>0.015089</td>\n",
       "    </tr>\n",
       "    <tr>\n",
       "      <th>2</th>\n",
       "      <td>company_12659</td>\n",
       "      <td>SE</td>\n",
       "      <td>Electrical Equipment &amp; Parts</td>\n",
       "      <td>Industrials</td>\n",
       "      <td>0.007253</td>\n",
       "      <td>0.486295</td>\n",
       "      <td>0.000016</td>\n",
       "      <td>0.000034</td>\n",
       "      <td>2023-12-31</td>\n",
       "      <td>2024-03-31</td>\n",
       "      <td>...</td>\n",
       "      <td>6.899561e-07</td>\n",
       "      <td>0.001178</td>\n",
       "      <td>8.217764e-06</td>\n",
       "      <td>0.000092</td>\n",
       "      <td>0.000012</td>\n",
       "      <td>0.999051</td>\n",
       "      <td>0.000010</td>\n",
       "      <td>0.001212</td>\n",
       "      <td>0.000237</td>\n",
       "      <td>0.015103</td>\n",
       "    </tr>\n",
       "    <tr>\n",
       "      <th>3</th>\n",
       "      <td>company_4637</td>\n",
       "      <td>IN</td>\n",
       "      <td>Building Products &amp; Equipment</td>\n",
       "      <td>Industrials</td>\n",
       "      <td>0.000382</td>\n",
       "      <td>NaN</td>\n",
       "      <td>0.000001</td>\n",
       "      <td>0.000014</td>\n",
       "      <td>2024-03-31</td>\n",
       "      <td>2024-03-31</td>\n",
       "      <td>...</td>\n",
       "      <td>8.458420e-09</td>\n",
       "      <td>0.001176</td>\n",
       "      <td>8.871565e-07</td>\n",
       "      <td>0.000063</td>\n",
       "      <td>0.000007</td>\n",
       "      <td>0.999062</td>\n",
       "      <td>0.000010</td>\n",
       "      <td>0.001212</td>\n",
       "      <td>0.000235</td>\n",
       "      <td>0.015090</td>\n",
       "    </tr>\n",
       "    <tr>\n",
       "      <th>4</th>\n",
       "      <td>company_10738</td>\n",
       "      <td>US</td>\n",
       "      <td>Biotechnology</td>\n",
       "      <td>Healthcare</td>\n",
       "      <td>NaN</td>\n",
       "      <td>0.485822</td>\n",
       "      <td>0.000802</td>\n",
       "      <td>0.000025</td>\n",
       "      <td>2023-12-31</td>\n",
       "      <td>2024-03-31</td>\n",
       "      <td>...</td>\n",
       "      <td>1.350784e-07</td>\n",
       "      <td>0.001189</td>\n",
       "      <td>8.511356e-05</td>\n",
       "      <td>0.000063</td>\n",
       "      <td>0.000006</td>\n",
       "      <td>0.999062</td>\n",
       "      <td>0.000010</td>\n",
       "      <td>0.001432</td>\n",
       "      <td>0.000245</td>\n",
       "      <td>0.015023</td>\n",
       "    </tr>\n",
       "  </tbody>\n",
       "</table>\n",
       "<p>5 rows × 1147 columns</p>\n",
       "</div>"
      ],
      "text/plain": [
       "       companyId metadata_0                            industry  \\\n",
       "0  company_18887         US                    Asset Management   \n",
       "1  company_14024         CA  Furnishings, Fixtures & Appliances   \n",
       "2  company_12659         SE        Electrical Equipment & Parts   \n",
       "3   company_4637         IN       Building Products & Equipment   \n",
       "4  company_10738         US                       Biotechnology   \n",
       "\n",
       "               sector  metadata_1  metadata_2  metadata_3  metadata_4  \\\n",
       "0  Financial Services    0.003054    0.490076    0.003586    0.000486   \n",
       "1   Consumer Cyclical         NaN    0.489839    0.000016    0.000048   \n",
       "2         Industrials    0.007253    0.486295    0.000016    0.000034   \n",
       "3         Industrials    0.000382         NaN    0.000001    0.000014   \n",
       "4          Healthcare         NaN    0.485822    0.000802    0.000025   \n",
       "\n",
       "  lastUpdatedAnnumEndDate lastUpdatedQuarterEndDate  ...  Y_0_feature_22  \\\n",
       "0              2023-12-31                2024-03-31  ...    8.458420e-09   \n",
       "1              2023-12-31                2024-03-31  ...    6.552366e-06   \n",
       "2              2023-12-31                2024-03-31  ...    6.899561e-07   \n",
       "3              2024-03-31                2024-03-31  ...    8.458420e-09   \n",
       "4              2023-12-31                2024-03-31  ...    1.350784e-07   \n",
       "\n",
       "   Y_0_feature_69  Y_0_feature_108  Y_0_feature_123  Y_0_feature_80  \\\n",
       "0        0.001202     2.487104e-04         0.000063        0.000065   \n",
       "1        0.001189     5.385571e-05         0.000132        0.000206   \n",
       "2        0.001178     8.217764e-06         0.000092        0.000012   \n",
       "3        0.001176     8.871565e-07         0.000063        0.000007   \n",
       "4        0.001189     8.511356e-05         0.000063        0.000006   \n",
       "\n",
       "   Y_0_feature_13  Y_0_feature_20  Y_0_feature_35  Y_0_feature_45  \\\n",
       "0        0.999062        0.000010        0.001340        0.000270   \n",
       "1        0.998454        0.000284        0.001227        0.000258   \n",
       "2        0.999051        0.000010        0.001212        0.000237   \n",
       "3        0.999062        0.000010        0.001212        0.000235   \n",
       "4        0.999062        0.000010        0.001432        0.000245   \n",
       "\n",
       "   Y_0_feature_16  \n",
       "0        0.015111  \n",
       "1        0.015089  \n",
       "2        0.015103  \n",
       "3        0.015090  \n",
       "4        0.015023  \n",
       "\n",
       "[5 rows x 1147 columns]"
      ]
     },
     "execution_count": 2,
     "metadata": {},
     "output_type": "execute_result"
    }
   ],
   "source": [
    "# reading data\n",
    "df = pd.read_csv('X_train.csv')\n",
    "df.head(5)"
   ]
  },
  {
   "cell_type": "code",
   "execution_count": 3,
   "metadata": {},
   "outputs": [
    {
     "name": "stdout",
     "output_type": "stream",
     "text": [
      "There are 19733 samples in the dataset.\n"
     ]
    }
   ],
   "source": [
    "print(f\"There are {df.shape[0]} samples in the dataset.\")"
   ]
  },
  {
   "cell_type": "code",
   "execution_count": 4,
   "metadata": {},
   "outputs": [
    {
     "data": {
      "text/plain": [
       "(24119, 1147)"
      ]
     },
     "execution_count": 4,
     "metadata": {},
     "output_type": "execute_result"
    }
   ],
   "source": [
    "X_test = pd.read_csv('X_forward_looking.csv')\n",
    "X_test.shape"
   ]
  },
  {
   "cell_type": "code",
   "execution_count": null,
   "metadata": {},
   "outputs": [],
   "source": [
    "df.describe().T"
   ]
  },
  {
   "cell_type": "code",
   "execution_count": null,
   "metadata": {},
   "outputs": [],
   "source": [
    "# creating datasets \n",
    "num_attr = [val for val in df.columns if df[val].dtype in (int,float)]\n",
    "\n",
    "num_data = df[num_attr]\n",
    "num_data.head(5)"
   ]
  },
  {
   "cell_type": "code",
   "execution_count": null,
   "metadata": {},
   "outputs": [],
   "source": [
    "#aliging target data with respective features.\n",
    "target_data = pd.read_csv('targets_train.csv')\n",
    "\n",
    "def create_dataset(features,target):\n",
    "    \"\"\"Returns data with right features and target set.\"\"\"\n",
    "    new_data = {}\n",
    "    for col in target.drop('companyId',axis=1).columns:\n",
    "        col_data = pd.DataFrame()\n",
    "        for column in features.columns:\n",
    "            if  column.startswith('Q') or column.startswith('Y'):\n",
    "                if column[-2:] == col[-2:]:           \n",
    "                    col_data[column] = features[column]\n",
    "            col_data[col] = target[col] \n",
    "            new_data[col] = col_data\n",
    "\n",
    "    return new_data\n",
    "\n",
    "\n",
    "dataset_dict = create_dataset(num_data,target_data)                "
   ]
  },
  {
   "cell_type": "code",
   "execution_count": null,
   "metadata": {},
   "outputs": [],
   "source": [
    "dataset_dict['target_43'].head()"
   ]
  },
  {
   "cell_type": "code",
   "execution_count": null,
   "metadata": {},
   "outputs": [],
   "source": [
    "target_7 = dataset_dict['target_7']\n",
    "target_7.head()"
   ]
  },
  {
   "cell_type": "code",
   "execution_count": null,
   "metadata": {},
   "outputs": [],
   "source": [
    "def distplot(rows,columns,data,target):\n",
    "    \"\"\"Returns the distribution plots.\"\"\"\n",
    "    fig,ax = plt.subplots(nrows=rows,ncols=columns,sharey=True,figsize=(10,10))\n",
    "    fig.suptitle(\"Distribution of data.\")\n",
    "\n",
    "\n",
    "    feature_data = data.drop([target],axis=1)\n",
    "    axes = ax.flatten()  # flatten the 2D array of axes into a 1D array\n",
    "    for i, col in enumerate(feature_data,start=-1):\n",
    "        axes[i].scatter(feature_data[col], data[target])\n",
    "        axes[i].set_title(col)  # set the title of each subplot to the column name\n",
    "        axes[i].grid(True)\n",
    "    plt.show()\n",
    "    plt.tight_layout()\n"
   ]
  },
  {
   "cell_type": "code",
   "execution_count": null,
   "metadata": {},
   "outputs": [],
   "source": [
    "distplot(4,2,target_7,'target_7')"
   ]
  },
  {
   "cell_type": "code",
   "execution_count": null,
   "metadata": {},
   "outputs": [],
   "source": [
    "X_7 = target_7.drop(['target_7'],axis=1)\n",
    "Y_7 = target_7[['target_7']]\n",
    "\n",
    "X_7.isna().sum()"
   ]
  },
  {
   "cell_type": "code",
   "execution_count": null,
   "metadata": {},
   "outputs": [],
   "source": [
    "corr_7 = target_7.corr()\n",
    "sb.heatmap(corr_7,annot=True,fmt='.3f')\n",
    "plt.show()"
   ]
  },
  {
   "cell_type": "code",
   "execution_count": null,
   "metadata": {},
   "outputs": [],
   "source": [
    "from sklearn.model_selection import train_test_split\n",
    "from sklearn.linear_model import LinearRegression\n",
    "from sklearn.decomposition import PCA\n",
    "from sklearn.cross_decomposition import PLSRegression\n",
    "from sklearn.metrics import r2_score,mean_squared_error\n",
    "\n",
    "xtrain_7,xtest_7,ytrain_7,ytest_7 = train_test_split(X_7,Y_7,test_size=0.25,random_state=12)\n",
    "print(xtrain_7.shape)\n",
    "print(xtest_7.shape)\n",
    "print(ytrain_7.shape)\n",
    "print(ytest_7.shape)"
   ]
  },
  {
   "cell_type": "code",
   "execution_count": null,
   "metadata": {},
   "outputs": [],
   "source": [
    "pls_reg = PLSRegression(n_components=4)\n",
    "pls_reg.fit(X_7,Y_7)\n",
    "\n",
    "#y7_train_pred = pls_reg.predict(xtrain_7)\n",
    "#y7_test_pred = pls_reg.predict(xtest_7)\n",
    "\n",
    "#print(f\"r2 score on train set is {r2_score(ytrain_7,y7_train_pred)} and on test set is {r2_score(ytest_7,y7_test_pred)}\")\n",
    "#print(f\"MSE score on train set is {mean_squared_error(ytrain_7,y7_train_pred)} and on test set is {mean_squared_error(ytest_7,y7_test_pred)}\")"
   ]
  },
  {
   "cell_type": "code",
   "execution_count": null,
   "metadata": {},
   "outputs": [],
   "source": [
    "def test_submission(train_data,model):\n",
    "    test_features = []\n",
    "    for col in train_data.columns:\n",
    "        test_features.append(col)\n",
    "\n",
    "    test_data = X_test[test_features]\n",
    "\n",
    "    test_sub = model.predict(test_data)\n",
    "    return test_sub\n",
    "\n",
    "test_7 = test_submission(X_7,pls_reg)"
   ]
  },
  {
   "cell_type": "markdown",
   "metadata": {},
   "source": [
    "## target 43"
   ]
  },
  {
   "cell_type": "code",
   "execution_count": null,
   "metadata": {},
   "outputs": [],
   "source": [
    "target_43 = dataset_dict['target_43']\n",
    "target_43.head()"
   ]
  },
  {
   "cell_type": "code",
   "execution_count": null,
   "metadata": {},
   "outputs": [],
   "source": [
    "distplot(4,2,target_43,'target_43')"
   ]
  },
  {
   "cell_type": "code",
   "execution_count": null,
   "metadata": {},
   "outputs": [],
   "source": [
    "X_43 = target_43.drop('target_43',axis=1)\n",
    "Y_43 = target_43['target_43']\n",
    "\n",
    "xtrain_43,xtest_43,ytrain_43,ytest_43 = train_test_split(X_43,Y_43,test_size=0.25,random_state=13)"
   ]
  },
  {
   "cell_type": "code",
   "execution_count": null,
   "metadata": {},
   "outputs": [],
   "source": [
    "pls_reg_43 = PLSRegression(n_components=4)\n",
    "pls_reg_43.fit(X_43,Y_43)\n",
    "\n",
    "#y43_train_pred = pls_reg_43.predict(xtrain_43)\n",
    "#y43_test_pred = pls_reg_43.predict(xtest_43)\n",
    "\n",
    "#print(f\"r2 score on trainset is {r2_score(ytrain_43,y43_train_pred)} and on test set is {r2_score(ytest_43,y43_test_pred)}\")\n",
    "#print(f\"MSE score on trainset is {mean_squared_error(ytrain_43,y43_train_pred)} and on test set is {mean_squared_error(ytest_43,y43_test_pred)}\")"
   ]
  },
  {
   "cell_type": "code",
   "execution_count": null,
   "metadata": {},
   "outputs": [],
   "source": [
    "test_43 = test_submission(X_43,pls_reg_43)"
   ]
  },
  {
   "cell_type": "markdown",
   "metadata": {},
   "source": [
    "## target 34"
   ]
  },
  {
   "cell_type": "code",
   "execution_count": null,
   "metadata": {},
   "outputs": [],
   "source": [
    "target_34 = dataset_dict['target_34']\n",
    "target_34.head(5)"
   ]
  },
  {
   "cell_type": "code",
   "execution_count": null,
   "metadata": {},
   "outputs": [],
   "source": [
    "subset_col = []\n",
    "for col in target_34.columns:\n",
    "    if col.endswith('_34'):\n",
    "        subset_col.append(col)\n",
    "\n",
    "data_34 = target_34[subset_col]"
   ]
  },
  {
   "cell_type": "code",
   "execution_count": null,
   "metadata": {},
   "outputs": [],
   "source": [
    "distplot(4,2,data_34,'target_34')"
   ]
  },
  {
   "cell_type": "code",
   "execution_count": null,
   "metadata": {},
   "outputs": [],
   "source": [
    "X_34 = data_34.drop('target_34',axis=1)\n",
    "Y_34 = data_34['target_34']\n",
    "\n",
    "xtrain_34,xtest_34,ytrain_34,ytest_34 = train_test_split(X_34,Y_34,test_size=0.25,random_state=14)"
   ]
  },
  {
   "cell_type": "code",
   "execution_count": null,
   "metadata": {},
   "outputs": [],
   "source": [
    "pls_reg_34 = PLSRegression(n_components=4)\n",
    "pls_reg_34.fit(X_34,Y_34)\n",
    "\n",
    "#y34_pred_train = pls_reg_34.predict(xtrain_34)\n",
    "#y34_pred_test = pls_reg_34.predict(xtest_34)\n",
    "\n",
    "#print(f\"r2 score for train set is {r2_score(ytrain_34,y34_pred_train)} and for test set is {r2_score(ytest_34,y34_pred_test)}\")\n",
    "#print(f\"MSE score on train set is {mean_squared_error(ytrain_34,y34_pred_train)} and for test set is {mean_squared_error(ytest_34,y34_pred_test)}\")"
   ]
  },
  {
   "cell_type": "code",
   "execution_count": null,
   "metadata": {},
   "outputs": [],
   "source": [
    "test_34 = test_submission(X_34,pls_reg_34)"
   ]
  },
  {
   "cell_type": "markdown",
   "metadata": {},
   "source": [
    "## Target 4"
   ]
  },
  {
   "cell_type": "code",
   "execution_count": null,
   "metadata": {},
   "outputs": [],
   "source": [
    "target_4 = dataset_dict['target_4']\n",
    "target_4.head()"
   ]
  },
  {
   "cell_type": "code",
   "execution_count": null,
   "metadata": {},
   "outputs": [],
   "source": [
    "distplot(4,2,target_4,'target_4')"
   ]
  },
  {
   "cell_type": "code",
   "execution_count": null,
   "metadata": {},
   "outputs": [],
   "source": [
    "plt.figure(figsize=(8,4))\n",
    "plt.scatter(range(target_4.shape[0]),target_4['Q_3_feature_4'],s=1,c='b')\n",
    "plt.xlabel('Data values')\n",
    "plt.ylabel('Q_3 feature values')\n",
    "plt.grid(True)\n",
    "plt.show()"
   ]
  },
  {
   "cell_type": "code",
   "execution_count": null,
   "metadata": {},
   "outputs": [],
   "source": [
    "# binning the data to categorize and generate clear structure.\n",
    "\n",
    "#for col in target_4.drop('target_4',axis=1).columns:\n",
    "#    target_4[col] = pd.cut(target_4[col],8,duplicates='drop',labels=[1,2,3,4,5,6,7,8])\n",
    "\n",
    "#target_4.head()"
   ]
  },
  {
   "cell_type": "code",
   "execution_count": null,
   "metadata": {},
   "outputs": [],
   "source": [
    "#target_4['target_4'] = pd.cut(target_4['target_4'],4,duplicates='drop')"
   ]
  },
  {
   "cell_type": "code",
   "execution_count": null,
   "metadata": {},
   "outputs": [],
   "source": [
    "# counting values and mapping the values\n",
    "#for col in target_4:\n",
    "#    values = target_4[col].value_counts(normalize=True)\n",
    "#    target_4[col] = target_4[col].map(values)\n",
    "\n",
    "#values = target_4.target_4.value_counts(normalize=True)\n",
    "#target_4['target_4'] = target_4['target_4'].map(values)"
   ]
  },
  {
   "cell_type": "code",
   "execution_count": null,
   "metadata": {},
   "outputs": [],
   "source": [
    "distplot(4,2,target_4,'target_4')"
   ]
  },
  {
   "cell_type": "code",
   "execution_count": null,
   "metadata": {},
   "outputs": [],
   "source": [
    "# adding polynomial features\n",
    "from sklearn.preprocessing import PolynomialFeatures\n",
    "\n",
    "X_4 = target_4.drop(['target_4'],axis=1)\n",
    "Y_4 = target_4['target_4']\n",
    "\n",
    "poly = PolynomialFeatures(degree=2)\n",
    "X_poly = poly.fit_transform(X_4)\n",
    "X_poly_rep = np.reciprocal(X_poly)\n",
    "xtrain_4,xtest_4,ytrain_4,ytest_4 = train_test_split(X_4,Y_4,test_size=0.25,random_state=23)"
   ]
  },
  {
   "cell_type": "code",
   "execution_count": null,
   "metadata": {},
   "outputs": [],
   "source": [
    "pls_reg_4 = PLSRegression(n_components=4)\n",
    "pls_reg_4.fit(xtrain_4,ytrain_4)\n",
    "\n",
    "y4_pred_train = pls_reg_4.predict(xtrain_4)\n",
    "y4_pred_test = pls_reg_4.predict(xtest_4)\n",
    "\n",
    "X_train_trans = pls_reg_4.transform(xtrain_4)\n",
    "X_test_trans = pls_reg_4.transform(xtest_4)\n",
    "\n",
    "print(f\"R2 score on train set {r2_score(ytrain_4,y4_pred_train)} and test set {r2_score(ytest_4,y4_pred_test)}\")\n",
    "print(f\"MSE score on train set {mean_squared_error(ytrain_4,y4_pred_train)} and test set {mean_squared_error(ytest_4,y4_pred_test)}\")"
   ]
  },
  {
   "cell_type": "code",
   "execution_count": null,
   "metadata": {},
   "outputs": [],
   "source": [
    "from sklearn.ensemble import RandomForestRegressor\n",
    "\n",
    "rdclf = RandomForestRegressor(max_depth = 12, n_estimators = 150, min_samples_split = 3,random_state=10)\n",
    "rdclf.fit(X_4,Y_4)\n",
    "#y4_pred_train_clf = rdclf.predict(xtrain_4)\n",
    "#y4_pred_test_clf = rdclf.predict(xtest_4)\n",
    "\n",
    "#print(f\"R2 score on train set {r2_score(ytrain_4,y4_pred_train_clf)} and test set {r2_score(ytest_4,y4_pred_test_clf)}\")\n",
    "#print(f\"MSE score on train set {mean_squared_error(ytrain_4,y4_pred_train_clf)} and test set {mean_squared_error(ytest_4,y4_pred_test_clf)}\")\n"
   ]
  },
  {
   "cell_type": "code",
   "execution_count": null,
   "metadata": {},
   "outputs": [],
   "source": [
    "from sklearn.svm import SVR\n",
    "\n",
    "svm = SVR(kernel='rbf',degree=2,C=1,tol = 0.02)\n",
    "svm.fit(X_train_trans,ytrain_4)\n",
    "\n",
    "y4_pred_svm_train = svm.predict(X_train_trans)\n",
    "y4_pred_svm_test = svm.predict(X_test_trans)\n",
    "\n",
    "print(f\"R2 score on {r2_score(ytrain_4,y4_pred_svm_train)} & test set is {r2_score(ytest_4,y4_pred_svm_test)}\")\n",
    "print(f\"MSE score on {mean_squared_error(ytrain_4,y4_pred_svm_train)} and test set is {mean_squared_error(ytest_4,y4_pred_svm_test)}\")"
   ]
  },
  {
   "cell_type": "code",
   "execution_count": null,
   "metadata": {},
   "outputs": [],
   "source": [
    "test_4 = test_submission(X_4,rdclf)"
   ]
  },
  {
   "cell_type": "markdown",
   "metadata": {},
   "source": [
    "## target 42"
   ]
  },
  {
   "cell_type": "code",
   "execution_count": null,
   "metadata": {},
   "outputs": [],
   "source": [
    "target_42 = dataset_dict['target_42']\n",
    "target_42.head()"
   ]
  },
  {
   "cell_type": "code",
   "execution_count": null,
   "metadata": {},
   "outputs": [],
   "source": [
    "distplot(4,2,target_42,'target_42')"
   ]
  },
  {
   "cell_type": "code",
   "execution_count": null,
   "metadata": {},
   "outputs": [],
   "source": [
    "X_42 = target_42.drop('target_42',axis=1)\n",
    "Y_42 = target_42['target_42']\n",
    "\n",
    "xtrain_42,xtest_42,ytrain_42,ytest_42 = train_test_split(X_42,Y_42,test_size=0.25,random_state=16)"
   ]
  },
  {
   "cell_type": "code",
   "execution_count": null,
   "metadata": {},
   "outputs": [],
   "source": [
    "pls_reg_42 = PLSRegression(n_components=4)\n",
    "pls_reg_42.fit(X_42,Y_42)"
   ]
  },
  {
   "cell_type": "code",
   "execution_count": null,
   "metadata": {},
   "outputs": [],
   "source": [
    "#y42_pred_train = pls_reg_42.predict(xtrain_42)\n",
    "#y42_pred_test = pls_reg_42.predict(xtest_42)\n",
    "\n",
    "#print(f\"r2 score for train set is {r2_score(ytrain_42,y42_pred_train)} and {r2_score(ytest_42,y42_pred_test)} for test set\")\n",
    "#print(f\"MSE score for train set is {mean_squared_error(ytrain_42,y42_pred_train)} and {mean_squared_error(ytest_42,y42_pred_test)} for test set\")"
   ]
  },
  {
   "cell_type": "code",
   "execution_count": null,
   "metadata": {},
   "outputs": [],
   "source": [
    "test_42 = test_submission(X_42,pls_reg_42)"
   ]
  },
  {
   "cell_type": "markdown",
   "metadata": {},
   "source": [
    "## Target 9"
   ]
  },
  {
   "cell_type": "code",
   "execution_count": null,
   "metadata": {},
   "outputs": [],
   "source": [
    "target_9 = dataset_dict['target_9']\n",
    "target_9.head()"
   ]
  },
  {
   "cell_type": "code",
   "execution_count": null,
   "metadata": {},
   "outputs": [],
   "source": [
    "distplot(4,2,target_9,'target_9')"
   ]
  },
  {
   "cell_type": "code",
   "execution_count": null,
   "metadata": {},
   "outputs": [],
   "source": [
    "X_9 = target_9.drop('target_9',axis=1)\n",
    "Y_9 = target_9['target_9']\n",
    "\n",
    "xtrain_9,xtest_9,ytrain_9,ytest_9 = train_test_split(X_9,Y_9,test_size=0.25,random_state=17)"
   ]
  },
  {
   "cell_type": "code",
   "execution_count": null,
   "metadata": {},
   "outputs": [],
   "source": [
    "pls_reg_9 = PLSRegression(n_components = 4)\n",
    "pls_reg_9.fit(X_9,Y_9)\n",
    "\n",
    "#y9_pred_train = pls_reg_9.predict(xtrain_9)\n",
    "#y9_pred_test = pls_reg_9.predict(xtest_9)\n",
    "\n",
    "#print(f\"r2 score for train set is {r2_score(ytrain_9,y9_pred_train)} and {r2_score(ytest_9,y9_pred_test)} for test set.\")\n",
    "#print(f\"MSE score for train set is {mean_squared_error(ytrain_9,y9_pred_train)} and {mean_squared_error(ytest_9,y9_pred_test)} for test set.\")"
   ]
  },
  {
   "cell_type": "code",
   "execution_count": null,
   "metadata": {},
   "outputs": [],
   "source": [
    "test_9 = test_submission(X_9,pls_reg_9)"
   ]
  },
  {
   "cell_type": "markdown",
   "metadata": {},
   "source": [
    "## target 27"
   ]
  },
  {
   "cell_type": "code",
   "execution_count": null,
   "metadata": {},
   "outputs": [],
   "source": [
    "target_27 = dataset_dict['target_27']\n",
    "target_27.head()"
   ]
  },
  {
   "cell_type": "code",
   "execution_count": null,
   "metadata": {},
   "outputs": [],
   "source": [
    "col_lst = []\n",
    "for col in target_27.columns:\n",
    "    if col.endswith('_27'):\n",
    "        col_lst.append(col)\n",
    "\n",
    "filtered_27 = target_27[col_lst]\n",
    "filtered_27.head()"
   ]
  },
  {
   "cell_type": "code",
   "execution_count": null,
   "metadata": {},
   "outputs": [],
   "source": [
    "distplot(4,2,filtered_27,'target_27')"
   ]
  },
  {
   "cell_type": "code",
   "execution_count": null,
   "metadata": {},
   "outputs": [],
   "source": [
    "X_27 = filtered_27.drop('target_27',axis=1)\n",
    "Y_27 = filtered_27['target_27']\n",
    "\n",
    "xtrain_27,xtest_27,ytrain_27,ytest_27 = train_test_split(X_27,Y_27,test_size=0.25,random_state=16)"
   ]
  },
  {
   "cell_type": "code",
   "execution_count": null,
   "metadata": {},
   "outputs": [],
   "source": [
    "pls_reg_27 = PLSRegression(n_components=4)\n",
    "pls_reg_27.fit(X_27,Y_27)\n",
    "\n",
    "#y27_pred_train = pls_reg_27.predict(xtrain_27)\n",
    "#y27_pred_test = pls_reg_27.predict(xtest_27)\n",
    "\n",
    "#print(f\"r2 score on train set {r2_score(ytrain_27,y27_pred_train)} and on test set {r2_score(ytest_27,y27_pred_test)}\")\n",
    "#print(f\"MSE score on train set {mean_squared_error(ytrain_27,y27_pred_train)} and test set is {mean_squared_error(ytest_27,y27_pred_test)}.\")"
   ]
  },
  {
   "cell_type": "code",
   "execution_count": null,
   "metadata": {},
   "outputs": [],
   "source": [
    "test_27 = test_submission(X_27,pls_reg_27)"
   ]
  },
  {
   "cell_type": "markdown",
   "metadata": {},
   "source": [
    "## target 99"
   ]
  },
  {
   "cell_type": "code",
   "execution_count": null,
   "metadata": {},
   "outputs": [],
   "source": [
    "target_99 = dataset_dict['target_99']\n",
    "target_99.head()"
   ]
  },
  {
   "cell_type": "code",
   "execution_count": null,
   "metadata": {},
   "outputs": [],
   "source": [
    "distplot(4,2,target_99,'target_99')"
   ]
  },
  {
   "cell_type": "code",
   "execution_count": null,
   "metadata": {},
   "outputs": [],
   "source": [
    "X_99 = target_99.drop(['target_99'],axis=1)\n",
    "Y_99 = target_99['target_99']\n",
    "\n",
    "xtrain_99,xtest_99,ytrain_99,ytest_99 = train_test_split(X_99,Y_99,test_size=0.25,random_state=18)"
   ]
  },
  {
   "cell_type": "code",
   "execution_count": null,
   "metadata": {},
   "outputs": [],
   "source": [
    "pls_reg_99 = PLSRegression(n_components=4)\n",
    "pls_reg_99.fit(X_99,Y_99)\n",
    "\n",
    "#y99_pred_train = pls_reg_99.predict(xtrain_99)\n",
    "#y99_pred_test = pls_reg_99.predict(xtest_99)\n",
    "\n",
    "#print(f\"r2 score on train set is {r2_score(ytrain_99,y99_pred_train)} and on test set is {r2_score(ytest_99,y99_pred_test)}.\")\n",
    "#print(f\"MSE score on train set is {mean_squared_error(ytrain_99,y99_pred_train)} and test set is {mean_squared_error(ytest_99,y99_pred_test)}.\")"
   ]
  },
  {
   "cell_type": "code",
   "execution_count": null,
   "metadata": {},
   "outputs": [],
   "source": [
    "test_99 = test_submission(X_99,pls_reg_99)"
   ]
  },
  {
   "cell_type": "markdown",
   "metadata": {},
   "source": [
    "## target 105"
   ]
  },
  {
   "cell_type": "code",
   "execution_count": null,
   "metadata": {},
   "outputs": [],
   "source": [
    "target_105 = dataset_dict['target_105']\n",
    "target_105.head()"
   ]
  },
  {
   "cell_type": "code",
   "execution_count": null,
   "metadata": {},
   "outputs": [],
   "source": [
    "distplot(4,2,target_105,'target_105')"
   ]
  },
  {
   "cell_type": "code",
   "execution_count": null,
   "metadata": {},
   "outputs": [],
   "source": [
    "X_105 = target_105.drop(['target_105'],axis=1)\n",
    "Y_105 = target_105['target_105']\n",
    "\n",
    "xtrain_105,xtest_105,ytrain_105,ytest_105 = train_test_split(X_105,Y_105,test_size=0.25,random_state=18)"
   ]
  },
  {
   "cell_type": "code",
   "execution_count": null,
   "metadata": {},
   "outputs": [],
   "source": [
    "pls_reg_105 = PLSRegression(n_components=4)\n",
    "pls_reg_105.fit(X_105,Y_105)\n",
    "\n",
    "#y105_pred_train = pls_reg_105.predict(xtrain_105)\n",
    "#y105_pred_test = pls_reg_105.predict(xtest_105)\n",
    "\n",
    "#print(f\"r2 score on train set is {r2_score(ytrain_105,y105_pred_train)} and on test set is {r2_score(ytest_105,y105_pred_test)}.\")\n",
    "#print(f\"MSE score on train set is {mean_squared_error(ytrain_105,y105_pred_train)} and test set is {mean_squared_error(ytest_105,y105_pred_test)}.\")"
   ]
  },
  {
   "cell_type": "code",
   "execution_count": null,
   "metadata": {},
   "outputs": [],
   "source": [
    "test_105 = test_submission(X_105,pls_reg_105)"
   ]
  },
  {
   "cell_type": "markdown",
   "metadata": {},
   "source": [
    "## target 24"
   ]
  },
  {
   "cell_type": "code",
   "execution_count": null,
   "metadata": {},
   "outputs": [],
   "source": [
    "target_24 = dataset_dict['target_24']\n",
    "target_24.head()"
   ]
  },
  {
   "cell_type": "code",
   "execution_count": null,
   "metadata": {},
   "outputs": [],
   "source": [
    "col_lst = []\n",
    "for col in target_24.columns:\n",
    "    if col.endswith('_24'):\n",
    "        col_lst.append(col)\n",
    "\n",
    "subset_24 = target_24[col_lst]\n",
    "distplot(4,2,subset_24,'target_24')"
   ]
  },
  {
   "cell_type": "code",
   "execution_count": null,
   "metadata": {},
   "outputs": [],
   "source": [
    "X_24 = subset_24.drop('target_24',axis=1)\n",
    "Y_24 = subset_24['target_24']\n",
    "\n",
    "xtrain_24,xtest_24,ytrain_24,ytest_24 = train_test_split(X_24,Y_24,test_size=0.25,random_state=19)"
   ]
  },
  {
   "cell_type": "code",
   "execution_count": null,
   "metadata": {},
   "outputs": [],
   "source": [
    "pls_reg_24 = PLSRegression(n_components = 4)\n",
    "pls_reg_24.fit(X_24,Y_24)\n",
    "\n",
    "#y24_pred_train = pls_reg_24.predict(xtrain_24)\n",
    "#y24_pred_test = pls_reg_24.predict(xtest_24)\n",
    "\n",
    "#print(f\"r2_score for train set is {r2_score(ytrain_24,y24_pred_train)} and test set is {r2_score(ytest_24,y24_pred_test)}.\")\n",
    "#print(f\"MSE score for train set is {mean_squared_error(ytrain_24,y24_pred_train)} and test is {mean_squared_error(ytest_24,y24_pred_test)}.\")"
   ]
  },
  {
   "cell_type": "code",
   "execution_count": null,
   "metadata": {},
   "outputs": [],
   "source": [
    "test_24 = test_submission(X_24,pls_reg_24)"
   ]
  },
  {
   "cell_type": "markdown",
   "metadata": {},
   "source": [
    "## target 83"
   ]
  },
  {
   "cell_type": "code",
   "execution_count": null,
   "metadata": {},
   "outputs": [],
   "source": [
    "target_83 = dataset_dict['target_83']\n",
    "target_83.head()"
   ]
  },
  {
   "cell_type": "code",
   "execution_count": null,
   "metadata": {},
   "outputs": [],
   "source": [
    "distplot(4,2,target_83,'target_83')"
   ]
  },
  {
   "cell_type": "code",
   "execution_count": null,
   "metadata": {},
   "outputs": [],
   "source": [
    "X_83 = target_83.drop('target_83',axis=1)\n",
    "Y_83 = target_83['target_83']\n",
    "\n",
    "xtrain_83,xtest_83,ytrain_83,ytest_83 = train_test_split(X_83,Y_83,test_size=0.25,random_state=20)"
   ]
  },
  {
   "cell_type": "code",
   "execution_count": null,
   "metadata": {},
   "outputs": [],
   "source": [
    "pls_reg_83 = PLSRegression(n_components=4)\n",
    "pls_reg_83.fit(X_83,Y_83)\n",
    "\n",
    "#y83_pred_train = pls_reg_83.predict(xtrain_83)\n",
    "#y83_pred_test = pls_reg_83.predict(xtest_83)\n",
    "\n",
    "#print(f\"r2 score on train set is {r2_score(ytrain_83,y83_pred_train)} and test set is {r2_score(ytest_83,y83_pred_test)}.\")\n",
    "#print(f\"MSE score on train set is {mean_squared_error(ytrain_83,y83_pred_train)} and test set is {mean_squared_error(ytest_83,y83_pred_test)}.\")"
   ]
  },
  {
   "cell_type": "code",
   "execution_count": null,
   "metadata": {},
   "outputs": [],
   "source": [
    "test_83 = test_submission(X_83,pls_reg_83)"
   ]
  },
  {
   "cell_type": "markdown",
   "metadata": {},
   "source": [
    "## target 80"
   ]
  },
  {
   "cell_type": "code",
   "execution_count": null,
   "metadata": {},
   "outputs": [],
   "source": [
    "target_80 = dataset_dict['target_80']\n",
    "target_80.head()"
   ]
  },
  {
   "cell_type": "code",
   "execution_count": null,
   "metadata": {},
   "outputs": [],
   "source": [
    "distplot(4,2,target_80,'target_80')"
   ]
  },
  {
   "cell_type": "code",
   "execution_count": null,
   "metadata": {},
   "outputs": [],
   "source": [
    "X_80 = target_80.drop(['target_80'],axis=1)\n",
    "Y_80 = target_80['target_80']\n",
    "\n",
    "xtrain_80,xtest_80,ytrain_80,ytest_80 = train_test_split(X_80,Y_80,test_size=0.25,random_state=21)"
   ]
  },
  {
   "cell_type": "code",
   "execution_count": null,
   "metadata": {},
   "outputs": [],
   "source": [
    "pls_reg_80 = PLSRegression(n_components=4)\n",
    "pls_reg_80.fit(X_80,Y_80)\n",
    "\n",
    "#y80_pred_train = pls_reg_80.predict(xtrain_80)\n",
    "#y80_pred_test = pls_reg_80.predict(xtest_80)\n",
    "\n",
    "#print(f\"r2 score on train set is {r2_score(ytrain_80,y80_pred_train)} and test set is {r2_score(ytest_80,y80_pred_test)}.\")\n",
    "#print(f\"MSE score on train set is {mean_squared_error(ytest_80,y80_pred_test)} and test set is {mean_squared_error(ytest_80,y80_pred_test)}.\")"
   ]
  },
  {
   "cell_type": "code",
   "execution_count": null,
   "metadata": {},
   "outputs": [],
   "source": [
    "test_80 = test_submission(X_80,pls_reg_80)"
   ]
  },
  {
   "cell_type": "markdown",
   "metadata": {},
   "source": [
    "## target 52"
   ]
  },
  {
   "cell_type": "code",
   "execution_count": null,
   "metadata": {},
   "outputs": [],
   "source": [
    "target_52 = dataset_dict['target_52']\n",
    "target_52.head()"
   ]
  },
  {
   "cell_type": "code",
   "execution_count": null,
   "metadata": {},
   "outputs": [],
   "source": [
    "distplot(4,2,target_52,'target_52')"
   ]
  },
  {
   "cell_type": "code",
   "execution_count": null,
   "metadata": {},
   "outputs": [],
   "source": [
    "X_52 = target_52.drop('target_52',axis=1)\n",
    "Y_52 = target_52['target_52']\n",
    "\n",
    "xtrain_52,xtest_52,ytrain_52,ytest_52 = train_test_split(X_52,Y_52,test_size=0.25,random_state=13)"
   ]
  },
  {
   "cell_type": "code",
   "execution_count": null,
   "metadata": {},
   "outputs": [],
   "source": [
    "pls_reg_52 = PLSRegression(n_components=4)\n",
    "pls_reg_52.fit(X_52,Y_52)\n",
    "\n",
    "#y52_pred_train = pls_reg_52.predict(xtrain_52)\n",
    "#y52_pred_test = pls_reg_52.predict(xtest_52)\n",
    "\n",
    "#print(f\"r2 score on {r2_score(ytrain_52,y52_pred_train)} and test set is {r2_score(ytest_52,y52_pred_test)}.\")\n",
    "#print(f\"MSE score on {mean_squared_error(ytrain_52,y52_pred_train)} and test set is {mean_squared_error(ytest_52,y52_pred_test)}.\")"
   ]
  },
  {
   "cell_type": "code",
   "execution_count": null,
   "metadata": {},
   "outputs": [],
   "source": [
    "test_52 = test_submission(X_52,pls_reg_52)"
   ]
  },
  {
   "cell_type": "markdown",
   "metadata": {},
   "source": [
    "## target 69"
   ]
  },
  {
   "cell_type": "code",
   "execution_count": null,
   "metadata": {},
   "outputs": [],
   "source": [
    "target_69 = dataset_dict['target_69']\n",
    "target_69.head()"
   ]
  },
  {
   "cell_type": "code",
   "execution_count": null,
   "metadata": {
    "scrolled": true
   },
   "outputs": [],
   "source": [
    "distplot(4,2,target_69,'target_69')"
   ]
  },
  {
   "cell_type": "code",
   "execution_count": null,
   "metadata": {},
   "outputs": [],
   "source": [
    "X_69 = target_69.drop('target_69',axis=1)\n",
    "Y_69 = target_69['target_69']\n",
    "\n",
    "xtrain_69,xtest_69,ytrain_69,ytest_69 = train_test_split(X_69,Y_69,test_size=0.25,random_state=15)"
   ]
  },
  {
   "cell_type": "code",
   "execution_count": null,
   "metadata": {},
   "outputs": [],
   "source": [
    "pls_reg_69 = PLSRegression(n_components=4)\n",
    "pls_reg_69.fit(X_69,Y_69)\n",
    "\n",
    "#y69_pred_train = pls_reg_69.predict(xtrain_69)\n",
    "#y69_pred_test = pls_reg_69.predict(xtest_69)\n",
    "\n",
    "#print(f\"r2 score on train set {r2_score(ytrain_69,y69_pred_train)} and test set is  {r2_score(ytest_69,y69_pred_test)}.\")\n",
    "#print(f\"MSE score on train set {mean_squared_error(ytrain_69,y69_pred_train)} and test set is {mean_squared_error(ytest_69,y69_pred_test)}.\")"
   ]
  },
  {
   "cell_type": "code",
   "execution_count": null,
   "metadata": {},
   "outputs": [],
   "source": [
    "test_69 = test_submission(X_69,pls_reg_69)"
   ]
  },
  {
   "cell_type": "markdown",
   "metadata": {},
   "source": [
    "## target 88"
   ]
  },
  {
   "cell_type": "code",
   "execution_count": null,
   "metadata": {},
   "outputs": [],
   "source": [
    "target_88 = dataset_dict['target_88']\n",
    "target_88.head()"
   ]
  },
  {
   "cell_type": "code",
   "execution_count": null,
   "metadata": {},
   "outputs": [],
   "source": [
    "distplot(4,2,target_88,'target_88')"
   ]
  },
  {
   "cell_type": "code",
   "execution_count": null,
   "metadata": {},
   "outputs": [],
   "source": [
    "X_88 = target_88.drop('target_88',axis=1)\n",
    "Y_88 = target_88['target_88']\n",
    "\n",
    "xtrain_88,xtest_88,ytrain_88,ytest_88 = train_test_split(X_88,Y_88,test_size=0.25,random_state=21)"
   ]
  },
  {
   "cell_type": "code",
   "execution_count": null,
   "metadata": {},
   "outputs": [],
   "source": [
    "pls_reg_88 = PLSRegression(n_components=4)\n",
    "pls_reg_88.fit(X_88,Y_88)\n",
    "\n",
    "#y88_pred_train = pls_reg_88.predict(xtrain_88)\n",
    "#y88_pred_test = pls_reg_88.predict(xtest_88)\n",
    "\n",
    "#print(f\"r2 score on train set {r2_score(ytrain_88,y88_pred_train)} and test set is {r2_score(ytest_88,y88_pred_test)}\")\n",
    "#print(f\"MSE score on train set {mean_squared_error(ytrain_88,y88_pred_train)} and test set {mean_squared_error(ytest_88,y88_pred_test)}\")\n",
    "\n"
   ]
  },
  {
   "cell_type": "code",
   "execution_count": null,
   "metadata": {},
   "outputs": [],
   "source": [
    "test_88 = test_submission(X_88,pls_reg_88)"
   ]
  },
  {
   "cell_type": "markdown",
   "metadata": {},
   "source": [
    "## target 85"
   ]
  },
  {
   "cell_type": "code",
   "execution_count": null,
   "metadata": {},
   "outputs": [],
   "source": [
    "target_85 = dataset_dict['target_85']\n",
    "target_85.head()"
   ]
  },
  {
   "cell_type": "code",
   "execution_count": null,
   "metadata": {},
   "outputs": [],
   "source": [
    "distplot(4,2,target_85,'target_85')"
   ]
  },
  {
   "cell_type": "code",
   "execution_count": null,
   "metadata": {},
   "outputs": [],
   "source": [
    "X_85 = target_85.drop('target_85',axis=1)\n",
    "Y_85 = target_85['target_85']\n",
    "\n",
    "xtrain_85,xtest_85,ytrain_85,ytest_85 = train_test_split(X_85,Y_85,test_size=0.25,random_state=22)"
   ]
  },
  {
   "cell_type": "code",
   "execution_count": null,
   "metadata": {},
   "outputs": [],
   "source": [
    "pls_reg_85 = PLSRegression(n_components=4)\n",
    "pls_reg_85.fit(X_85,Y_85)\n",
    "\n",
    "#y85_pred_train = pls_reg_85.predict(xtrain_85)\n",
    "#y85_pred_test = pls_reg_85.predict(xtest_85)\n",
    "\n",
    "#print(f\"r2 score on train set {r2_score(ytrain_85,y85_pred_train)} and test set is {r2_score(ytest_85,y85_pred_test)}\")\n",
    "#print(f\"MSE score on train set {mean_squared_error(ytest_85,y85_pred_test)} and test set is {mean_squared_error(ytest_85,y85_pred_test)}\")"
   ]
  },
  {
   "cell_type": "code",
   "execution_count": null,
   "metadata": {},
   "outputs": [],
   "source": [
    "test_85 = test_submission(X_85,pls_reg_85)"
   ]
  },
  {
   "cell_type": "markdown",
   "metadata": {},
   "source": [
    "## target 134"
   ]
  },
  {
   "cell_type": "code",
   "execution_count": null,
   "metadata": {},
   "outputs": [],
   "source": [
    "target_134 = dataset_dict['target_134']\n",
    "target_134.head()"
   ]
  },
  {
   "cell_type": "code",
   "execution_count": null,
   "metadata": {},
   "outputs": [],
   "source": [
    "col_lst = []\n",
    "for cols in target_134.columns:\n",
    "    if cols.endswith('_134'):\n",
    "        col_lst.append(cols)\n",
    "\n",
    "subset_134 = target_134[col_lst]\n",
    "distplot(4,2,subset_134,'target_134')"
   ]
  },
  {
   "cell_type": "code",
   "execution_count": null,
   "metadata": {},
   "outputs": [],
   "source": [
    "X_134 = subset_134.drop('target_134',axis=1)\n",
    "Y_134 = subset_134['target_134']\n",
    "\n",
    "xtrain_134,xtest_134,ytrain_134,ytest_134 = train_test_split(X_134,Y_134,test_size=0.25,random_state=22)"
   ]
  },
  {
   "cell_type": "code",
   "execution_count": null,
   "metadata": {},
   "outputs": [],
   "source": [
    "pls_reg_134 = PLSRegression(n_components=4)\n",
    "pls_reg_134.fit(X_134,Y_134)\n",
    "\n",
    "#y134_pred_train = pls_reg_134.predict(xtrain_134)\n",
    "#y134_pred_test = pls_reg_134.predict(xtest_134)\n",
    "\n",
    "#print(f\"r2 score on train set is {r2_score(ytrain_134,y134_pred_train)} and test set is {r2_score(ytest_134,y134_pred_test)}\")\n",
    "#print(f\"MSE score on train set is {mean_squared_error(ytrain_134,y134_pred_train)} and test set is {mean_squared_error(ytest_134,y134_pred_test)}.\")"
   ]
  },
  {
   "cell_type": "code",
   "execution_count": null,
   "metadata": {},
   "outputs": [],
   "source": [
    "test_134 = test_submission(X_134,pls_reg_134)"
   ]
  },
  {
   "cell_type": "code",
   "execution_count": null,
   "metadata": {},
   "outputs": [],
   "source": [
    "sample_submission = pd.read_csv('sample_submission.csv')\n",
    "sample_submission.shape"
   ]
  },
  {
   "cell_type": "code",
   "execution_count": null,
   "metadata": {},
   "outputs": [],
   "source": [
    "test_set = [test_7,test_43,test_34,test_42,test_9,test_27,test_99,\\\n",
    "                        test_105,test_24,test_83,test_80,test_52,\\\n",
    "                        test_4,test_69,test_88,test_85,test_134]\n",
    "\n",
    "series_set = []\n",
    "for val in test_set:\n",
    "    series_set.append(pd.Series(val.ravel()))\n",
    "\n",
    "series_set\n",
    "\n",
    "submission = pd.concat([sample_submission['companyId'],*series_set],axis=1,ignore_index=True)\n",
    "submission.head()"
   ]
  },
  {
   "cell_type": "code",
   "execution_count": 281,
   "metadata": {},
   "outputs": [],
   "source": [
    "submission.columns = sample_submission.columns"
   ]
  },
  {
   "cell_type": "code",
   "execution_count": 283,
   "metadata": {},
   "outputs": [],
   "source": [
    "submission.to_csv('first_submission.csv',index=False)"
   ]
  },
  {
   "cell_type": "code",
   "execution_count": null,
   "metadata": {},
   "outputs": [],
   "source": []
  }
 ],
 "metadata": {
  "kernelspec": {
   "display_name": "Python 3 (ipykernel)",
   "language": "python",
   "name": "python3"
  },
  "language_info": {
   "codemirror_mode": {
    "name": "ipython",
    "version": 3
   },
   "file_extension": ".py",
   "mimetype": "text/x-python",
   "name": "python",
   "nbconvert_exporter": "python",
   "pygments_lexer": "ipython3",
   "version": "3.12.2"
  }
 },
 "nbformat": 4,
 "nbformat_minor": 4
}
